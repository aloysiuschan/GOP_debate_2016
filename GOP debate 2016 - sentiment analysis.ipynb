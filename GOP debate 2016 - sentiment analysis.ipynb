{
 "cells": [
  {
   "cell_type": "code",
   "execution_count": 1,
   "metadata": {},
   "outputs": [],
   "source": [
    "# this notebook predicts the sentiments of tweets regarding the GOP presidential debate 2016\n",
    "# data obtained from Crowdflower's \"Data For Everyone\" library: https://www.figure-eight.com/data-for-everyone/"
   ]
  },
  {
   "cell_type": "code",
   "execution_count": 2,
   "metadata": {},
   "outputs": [],
   "source": [
    "# part 1: use naive bayes to predict tweet sentiment"
   ]
  },
  {
   "cell_type": "code",
   "execution_count": 3,
   "metadata": {},
   "outputs": [],
   "source": [
    "%reset -f\n",
    "\n",
    "import warnings\n",
    "warnings.filterwarnings('ignore')\n",
    "\n",
    "import pandas as pd\n",
    "import numpy as np\n",
    "import seaborn as sns\n",
    "\n",
    "import nltk\n",
    "from nltk.corpus import stopwords\n",
    "from nltk.classify import SklearnClassifier\n",
    "from nltk.tokenize import word_tokenize\n",
    "\n",
    "np.random.seed(123)"
   ]
  },
  {
   "cell_type": "code",
   "execution_count": 4,
   "metadata": {},
   "outputs": [],
   "source": [
    "# import dataset\n",
    "full = pd.read_csv('../data/GOP_presidential_debate_2016_tweets/Sentiment.csv')\n",
    "\n",
    "# keep only relevant columns\n",
    "full = full[['sentiment','text']]\n",
    "\n",
    "# let's try binary classification for this project; drop tweets that have neutral sentiment\n",
    "full = full.loc[(full['sentiment']!='Neutral'),]\n",
    "\n",
    "# shuffle rows (we'll be splitting data into train and test sets later)\n",
    "full = full.sample(frac=1)"
   ]
  },
  {
   "cell_type": "code",
   "execution_count": 5,
   "metadata": {},
   "outputs": [
    {
     "data": {
      "text/plain": [
       "<matplotlib.axes._subplots.AxesSubplot at 0x21ebe77b0f0>"
      ]
     },
     "execution_count": 5,
     "metadata": {},
     "output_type": "execute_result"
    },
    {
     "data": {
      "image/png": "[encoded data removed]",
      "text/plain": [
       "<Figure size 432x288 with 1 Axes>"
      ]
     },
     "metadata": {},
     "output_type": "display_data"
    }
   ],
   "source": [
    "# plot frequencies of positive and negative tweets\n",
    "sns.countplot(x='sentiment', data=full) # most tweets are negative"
   ]
  },
  {
   "cell_type": "code",
   "execution_count": 6,
   "metadata": {},
   "outputs": [],
   "source": [
    "# clean the tweets: transform all words to lowercase, keep only words with at least 3 letters, remove words that contain http or start with @ or start with # or is 'RT', remove punctuation\n",
    "full_cleaned = []\n",
    "english_stopwords = set(stopwords.words(\"english\"))\n",
    "\n",
    "import string\n",
    "\n",
    "for index, row in full.iterrows():\n",
    "    words_cleaned = [e.lower() for e in row.text.split() if len(e) >= 3] # keep only those words with at least 3 letters\n",
    "    words_cleaned = [word for word in words_cleaned\n",
    "        if 'http' not in word\n",
    "        and not word.startswith('@')\n",
    "        and not word.startswith('#')\n",
    "        and word != 'RT']\n",
    "    words_cleaned = [word.translate(str.maketrans({key: None for key in string.punctuation})) for word in words_cleaned] # remove punctuation\n",
    "    words_cleaned = [word for word in words_cleaned if not word in english_stopwords] # remove stopwords\n",
    "    words_cleaned = dict([(word, True) for word in words_cleaned])\n",
    "    full_cleaned.append((words_cleaned, row.sentiment))"
   ]
  },
  {
   "cell_type": "code",
   "execution_count": 7,
   "metadata": {},
   "outputs": [],
   "source": [
    "# split the data into train and test sets\n",
    "samp_prop = 0.8\n",
    "train = full_cleaned[0:int(len(full_cleaned)*samp_prop)]\n",
    "test = full_cleaned[int(len(full_cleaned)*samp_prop):]\n",
    "\n",
    "# Training the Naive Bayes classifier\n",
    "classifier = nltk.NaiveBayesClassifier.train(train)"
   ]
  },
  {
   "cell_type": "code",
   "execution_count": 8,
   "metadata": {},
   "outputs": [
    {
     "name": "stdout",
     "output_type": "stream",
     "text": [
      "the percentage of training obs predicted correctly is: 88.0\n",
      "the percentage of test obs predicted correctly is: 78.8\n"
     ]
    }
   ],
   "source": [
    "# check train accuracy\n",
    "accuracy = nltk.classify.util.accuracy(classifier, train)\n",
    "print('the percentage of training obs predicted correctly is:', round(accuracy * 100,1))\n",
    "\n",
    "# check test accuracy\n",
    "accuracy = nltk.classify.util.accuracy(classifier, test)\n",
    "print('the percentage of test obs predicted correctly is:', round(accuracy * 100,1))"
   ]
  },
  {
   "cell_type": "code",
   "execution_count": 25,
   "metadata": {},
   "outputs": [
    {
     "name": "stdout",
     "output_type": "stream",
     "text": [
      "Positive\n",
      "Positive\n",
      "Positive\n",
      "Negative\n",
      "Negative\n",
      "Positive\n",
      "Negative\n",
      "Negative\n",
      "Negative\n",
      "Negative\n",
      "------------------------------\n",
      "Negative\n",
      "Negative\n",
      "Negative\n",
      "Negative\n",
      "Negative\n",
      "Positive\n",
      "Negative\n",
      "Negative\n",
      "Negative\n",
      "Negative\n",
      "------------------------------\n"
     ]
    }
   ],
   "source": [
    "# see predicted sentiments for first 10 obs in the test set\n",
    "for i in range(0,10):\n",
    "    print(classifier.classify(test[i][0]))\n",
    "\n",
    "print('-'*30)\n",
    "\n",
    "# compare against actual sentiments for first 10 obs in the test set\n",
    "for i in range(0,10):\n",
    "    print(test[i][1])\n",
    "\n",
    "print('-'*30)\n",
    "\n",
    "# store predictions in a list\n",
    "predictions = []\n",
    "for i in range(0,len(test)):\n",
    "    pred = classifier.classify(test[i][0])\n",
    "    predictions.append(pred)"
   ]
  },
  {
   "cell_type": "code",
   "execution_count": 26,
   "metadata": {},
   "outputs": [],
   "source": [
    "# part 2: use AFINN lexicon to predict tweet sentiment"
   ]
  },
  {
   "cell_type": "code",
   "execution_count": 27,
   "metadata": {},
   "outputs": [],
   "source": [
    "# use AFINN to assign a sentiment score to each tweet\n",
    "from afinn import Afinn\n",
    "\n",
    "afinn_scores = []\n",
    "\n",
    "for index, row in full.iterrows():\n",
    "    afinn_score = Afinn().score(row.text)\n",
    "    afinn_scores.append(afinn_score)"
   ]
  },
  {
   "cell_type": "code",
   "execution_count": 28,
   "metadata": {},
   "outputs": [
    {
     "data": {
      "text/plain": [
       "<matplotlib.axes._subplots.AxesSubplot at 0x1f09271c0f0>"
      ]
     },
     "execution_count": 28,
     "metadata": {},
     "output_type": "execute_result"
    },
    {
     "data": {
      "image/png": "[encoded data removed]",
      "text/plain": [
       "<Figure size 1152x432 with 1 Axes>"
      ]
     },
     "metadata": {},
     "output_type": "display_data"
    }
   ],
   "source": [
    "# set the desired size of the graph\n",
    "import matplotlib.pyplot as plt\n",
    "fig, ax = plt.subplots()\n",
    "fig.set_size_inches(16, 6)\n",
    "\n",
    "# plot the frequencies of sentiment scores\n",
    "sns.countplot(afinn_scores, ax=ax) # seems like there are lots of tweets that are deemed neutral by AFINN"
   ]
  },
  {
   "cell_type": "code",
   "execution_count": 29,
   "metadata": {},
   "outputs": [
    {
     "name": "stdout",
     "output_type": "stream",
     "text": [
      "Correct    0.659055\n",
      "Wrong      0.340945\n",
      "Name: afinn_correct, dtype: float64\n"
     ]
    }
   ],
   "source": [
    "# convert sentiment scores above zero to Positive. convert sentiment scores at/below zero to Negative (since negative tweets are more common than positive tweets).\n",
    "full['afinn_score'] = afinn_scores\n",
    "\n",
    "full['afinn_sentiment'] = ''\n",
    "full.loc[(full['afinn_score']>0),'afinn_sentiment'] = 'Positive'\n",
    "full.loc[(full['afinn_score']<=0),'afinn_sentiment'] = 'Negative'\n",
    "\n",
    "# generate a variable that shows whether the AFINN sentiment is correct\n",
    "full['afinn_correct'] = ''\n",
    "full.loc[(full['afinn_sentiment']==full['sentiment']),'afinn_correct'] = 'Correct'\n",
    "full.loc[(full['afinn_sentiment']!=full['sentiment']),'afinn_correct'] = 'Wrong'\n",
    "\n",
    "# see the proportion of predictions that AFINN got correct\n",
    "print(full['afinn_correct'].value_counts() / full.shape[0]) # about 66% of AFINN's sentiment predictions are correct"
   ]
  },
  {
   "cell_type": "code",
   "execution_count": null,
   "metadata": {},
   "outputs": [],
   "source": []
  }
 ],
 "metadata": {
  "kernelspec": {
   "display_name": "Python 3",
   "language": "python",
   "name": "python3"
  },
  "language_info": {
   "codemirror_mode": {
    "name": "ipython",
    "version": 3
   },
   "file_extension": ".py",
   "mimetype": "text/x-python",
   "name": "python",
   "nbconvert_exporter": "python",
   "pygments_lexer": "ipython3",
   "version": "3.6.5"
  }
 },
 "nbformat": 4,
 "nbformat_minor": 2
}
