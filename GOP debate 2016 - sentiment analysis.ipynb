{
 "cells": [
  {
   "cell_type": "code",
   "execution_count": 1,
   "metadata": {},
   "outputs": [],
   "source": [
    "# this notebook predicts the sentiments of tweets regarding the GOP presidential debate 2016\n",
    "# data obtained from Crowdflower's \"Data For Everyone\" library: https://www.figure-eight.com/data-for-everyone/"
   ]
  },
  {
   "cell_type": "code",
   "execution_count": 2,
   "metadata": {},
   "outputs": [],
   "source": [
    "%reset -f\n",
    "\n",
    "import warnings\n",
    "warnings.filterwarnings('ignore')\n",
    "\n",
    "import pandas as pd\n",
    "import numpy as np\n",
    "import seaborn as sns\n",
    "\n",
    "import nltk\n",
    "from nltk.corpus import stopwords\n",
    "from nltk.classify import SklearnClassifier\n",
    "from nltk.tokenize import word_tokenize\n",
    "\n",
    "np.random.seed(123)"
   ]
  },
  {
   "cell_type": "code",
   "execution_count": 3,
   "metadata": {},
   "outputs": [],
   "source": [
    "# import dataset\n",
    "full = pd.read_csv('../data/GOP_presidential_debate_2016_tweets/Sentiment.csv')\n",
    "\n",
    "# keep only relevant columns\n",
    "full = full[['sentiment','text']]\n",
    "\n",
    "# let's try binary classification for this project; drop tweets that have neutral sentiment\n",
    "full = full.loc[(full['sentiment']!='Neutral'),]\n",
    "\n",
    "# shuffle rows (we'll be splitting data into train and test sets later)\n",
    "full = full.sample(frac=1)"
   ]
  },
  {
   "cell_type": "code",
   "execution_count": 4,
   "metadata": {},
   "outputs": [
    {
     "name": "stdout",
     "output_type": "stream",
     "text": [
      "Negative    79.159288\n",
      "Positive    20.840712\n",
      "Name: sentiment, dtype: float64\n"
     ]
    },
    {
     "data": {
      "image/png": "[encoded data removed]",
      "text/plain": [
       "<Figure size 432x288 with 1 Axes>"
      ]
     },
     "metadata": {},
     "output_type": "display_data"
    }
   ],
   "source": [
    "# plot frequencies of positive and negative tweets\n",
    "sns.countplot(x='sentiment', data=full) # most tweets are negative\n",
    "print(full['sentiment'].value_counts() / full.shape[0] * 100) # the baseline model's accuracy is 79%"
   ]
  },
  {
   "cell_type": "code",
   "execution_count": 5,
   "metadata": {},
   "outputs": [],
   "source": [
    "# clean the tweets\n",
    "import re\n",
    "import nltk\n",
    "from nltk.corpus import stopwords\n",
    "from nltk.stem.porter import PorterStemmer\n",
    "\n",
    "full = full.reset_index(drop=True)\n",
    "\n",
    "corpus = []\n",
    "\n",
    "ps = PorterStemmer() # to convert each word into its root form (e.g. 'loved' to 'love')\n",
    "\n",
    "for i in range(0, full.shape[0]):\n",
    "    tweet = full['text'][i].lower() # convert all words to lowercase\n",
    "    tweet = tweet.split() # split text into a list of individual words\n",
    "    tweet = [ps.stem(word) for word in tweet if word not in set(stopwords.words('english'))] # remove stopwords (e.g. 'this', 'and')\n",
    "    tweet = ' '.join(tweet) # join the words together, with a space between each word\n",
    "    corpus.append(tweet)"
   ]
  },
  {
   "cell_type": "code",
   "execution_count": 6,
   "metadata": {},
   "outputs": [],
   "source": [
    "# Create the Bag of Words model (i.e. a matrix where rows represent tweets, columns represent words, and cells represent word count)\n",
    "from sklearn.feature_extraction.text import CountVectorizer\n",
    "cv = CountVectorizer()\n",
    "x = cv.fit_transform(corpus).toarray()\n",
    "y = full['sentiment'].values"
   ]
  },
  {
   "cell_type": "code",
   "execution_count": 7,
   "metadata": {},
   "outputs": [],
   "source": [
    "# Split the dataset into the train and test sets\n",
    "from sklearn.model_selection import train_test_split\n",
    "x_train, x_test, y_train, y_test = train_test_split(x, y, test_size = 0.2)"
   ]
  },
  {
   "cell_type": "code",
   "execution_count": 8,
   "metadata": {},
   "outputs": [
    {
     "name": "stdout",
     "output_type": "stream",
     "text": [
      "test accuracy is: 0.8434296365330848\n"
     ]
    }
   ],
   "source": [
    "# Fit adaboost to the train set\n",
    "from sklearn.ensemble import AdaBoostClassifier\n",
    "classifier = AdaBoostClassifier()\n",
    "classifier.fit(x_train, y_train)\n",
    "\n",
    "# check test accuracy\n",
    "print('test accuracy is:', classifier.score(x_test,y_test)) # calculate accuracy"
   ]
  },
  {
   "cell_type": "code",
   "execution_count": 9,
   "metadata": {},
   "outputs": [
    {
     "name": "stdout",
     "output_type": "stream",
     "text": [
      "the optimized hyperparameters are:  {'learning_rate': 0.7569916036537752, 'n_estimators': 212}\n",
      "after optimization, the mean training accuracy is: 87.69\n",
      "after optimization, the mean validation accuracy is: 84.73\n",
      "test accuracy is: 0.8490214352283317\n"
     ]
    }
   ],
   "source": [
    "##### use random search to optimize the hyperparameters, while building the optimal model concurrently\n",
    "from scipy.stats import randint\n",
    "from scipy.stats import uniform\n",
    "from sklearn.model_selection import RandomizedSearchCV\n",
    "\n",
    "param_dist = {'learning_rate': uniform(0.1,0.9),\n",
    "              'n_estimators': randint(50,300)\n",
    "             }\n",
    "\n",
    "tune_model = RandomizedSearchCV(AdaBoostClassifier(),\n",
    "                                param_distributions=param_dist,\n",
    "                                scoring = 'accuracy',\n",
    "                                cv = 5,\n",
    "                                n_iter = 5) # number of iterations of random search\n",
    "\n",
    "tune_model.fit(x_train, y_train)\n",
    "\n",
    "#print(tune_model.cv_results_['params'])\n",
    "print('the optimized hyperparameters are: ', tune_model.best_params_)\n",
    "#print(tune_model.cv_results_['mean_train_score'])\n",
    "print(\"after optimization, the mean training accuracy is: {:.2f}\". format(tune_model.cv_results_['mean_train_score'][tune_model.best_index_]*100)) \n",
    "#print(tune_model.cv_results_['mean_test_score'])\n",
    "print(\"after optimization, the mean validation accuracy is: {:.2f}\". format(tune_model.cv_results_['mean_test_score'][tune_model.best_index_]*100))\n",
    "\n",
    "print('test accuracy is:', tune_model.score(x_test,y_test)) # calculate accuracy"
   ]
  },
  {
   "cell_type": "code",
   "execution_count": 10,
   "metadata": {},
   "outputs": [
    {
     "name": "stdout",
     "output_type": "stream",
     "text": [
      "[[94  5]\n",
      " [56 43]]\n",
      "-------------------------\n",
      "[[95  4]\n",
      " [55 44]]\n"
     ]
    }
   ],
   "source": [
    "# view confusion matrix; bottom-right shows sensitivity/recall/TPR, top-left shows specificity/TNR\n",
    "from sklearn.metrics import confusion_matrix\n",
    "\n",
    "# default adaboost\n",
    "cm = confusion_matrix(y_test, classifier.predict(x_test))\n",
    "cm[0] = cm[0]/cm[0].sum()*100\n",
    "cm[1] = cm[1]/cm[1].sum()*100\n",
    "print(cm)\n",
    "print('-'*25)\n",
    "\n",
    "# optimized adaboost\n",
    "cm = confusion_matrix(y_test, tune_model.predict(x_test))\n",
    "cm[0] = cm[0]/cm[0].sum()*100\n",
    "cm[1] = cm[1]/cm[1].sum()*100\n",
    "print(cm)\n"
   ]
  },
  {
   "cell_type": "code",
   "execution_count": null,
   "metadata": {},
   "outputs": [],
   "source": []
  }
 ],
 "metadata": {
  "kernelspec": {
   "display_name": "Python 3",
   "language": "python",
   "name": "python3"
  },
  "language_info": {
   "codemirror_mode": {
    "name": "ipython",
    "version": 3
   },
   "file_extension": ".py",
   "mimetype": "text/x-python",
   "name": "python",
   "nbconvert_exporter": "python",
   "pygments_lexer": "ipython3",
   "version": "3.6.5"
  }
 },
 "nbformat": 4,
 "nbformat_minor": 2
}
